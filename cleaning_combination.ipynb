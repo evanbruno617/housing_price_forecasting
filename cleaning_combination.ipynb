{
 "cells": [
  {
   "cell_type": "code",
   "execution_count": 126,
   "id": "9055b33e",
   "metadata": {},
   "outputs": [],
   "source": [
    "import pandas as pd\n",
    "import numpy as np"
   ]
  },
  {
   "cell_type": "code",
   "execution_count": 127,
   "id": "64069966",
   "metadata": {},
   "outputs": [],
   "source": [
    "# read in final_df cleaned file\n",
    "data_df = pd.read_csv('final_df_zip.csv')"
   ]
  },
  {
   "cell_type": "code",
   "execution_count": 128,
   "id": "86397021",
   "metadata": {},
   "outputs": [],
   "source": [
    "# read in unemployment\n",
    "unemployment = pd.read_csv('unemployment.csv')"
   ]
  },
  {
   "cell_type": "code",
   "execution_count": 129,
   "id": "273a1c6e",
   "metadata": {},
   "outputs": [],
   "source": [
    "# read in income\n",
    "income = pd.read_csv('2023-personal-income-tax-statistics-by-zipcode.csv')"
   ]
  },
  {
   "cell_type": "code",
   "execution_count": 131,
   "id": "7f05ca9a",
   "metadata": {},
   "outputs": [],
   "source": [
    "# lag income by year bc not reported til following year avoid data leackage\n",
    "income['Taxable Year'] = income['Taxable Year'] + 1"
   ]
  },
  {
   "cell_type": "code",
   "execution_count": 133,
   "id": "ac3d3bc9",
   "metadata": {},
   "outputs": [],
   "source": [
    "income['City'] = income['City'].apply(lambda x: x.upper())\n",
    "income['County'] = income['County'].apply(lambda x: x)"
   ]
  },
  {
   "cell_type": "code",
   "execution_count": 134,
   "id": "ff05e6c6",
   "metadata": {},
   "outputs": [],
   "source": [
    "income = income.loc[income['City'] != 'CITY UNMATCHED']"
   ]
  },
  {
   "cell_type": "code",
   "execution_count": 135,
   "id": "2c0e940c",
   "metadata": {},
   "outputs": [],
   "source": [
    "income['Zip Code'] = income['Zip Code'].astype(int)"
   ]
  },
  {
   "cell_type": "code",
   "execution_count": 136,
   "id": "074deca5",
   "metadata": {},
   "outputs": [],
   "source": [
    "# Rename column 'target' to 'new_target'\n",
    "income.rename(columns={'Taxable Year': 'Year'}, inplace=True)"
   ]
  },
  {
   "cell_type": "code",
   "execution_count": 138,
   "id": "d571614d",
   "metadata": {},
   "outputs": [],
   "source": [
    "# Rename column 'target' to 'new_target'\n",
    "income.rename(columns={'Zip Code': 'zip_code'}, inplace=True)"
   ]
  },
  {
   "cell_type": "code",
   "execution_count": 139,
   "id": "ca104026",
   "metadata": {},
   "outputs": [],
   "source": [
    "data_df.dropna(inplace=True)\n",
    "data_df['Month'] = data_df['sale_datetime'].apply(lambda x: x.split('-')[1])\n",
    "data_df['Year'] = data_df['sale_datetime'].apply(lambda x: int(x.split('-')[0]))"
   ]
  },
  {
   "cell_type": "code",
   "execution_count": null,
   "id": "079eb170",
   "metadata": {
    "scrolled": true
   },
   "outputs": [],
   "source": [
    "data_df.loc[data_df['Year'] < data_df['building_year_built']]"
   ]
  },
  {
   "cell_type": "code",
   "execution_count": 141,
   "id": "b061b6e4",
   "metadata": {},
   "outputs": [],
   "source": [
    "# merge datasets\n",
    "data_df = pd.merge(data_df, income[['zip_code','Year', 'Geo ZipCode','Geo City', 'Returns',\n",
    "       'California AGI', 'Total Tax Liability']], on=['zip_code', 'Year'], how='left')"
   ]
  },
  {
   "cell_type": "code",
   "execution_count": 142,
   "id": "5ddfd023",
   "metadata": {},
   "outputs": [],
   "source": [
    "data_df.dropna(inplace=True)"
   ]
  },
  {
   "cell_type": "code",
   "execution_count": null,
   "id": "9d121677",
   "metadata": {},
   "outputs": [],
   "source": [
    "data_df"
   ]
  },
  {
   "cell_type": "code",
   "execution_count": 145,
   "id": "1f3a6ab5",
   "metadata": {},
   "outputs": [],
   "source": [
    "# function to get geo location from column\n",
    "\n",
    "def strip_geo(coord):\n",
    "    \n",
    "    coord = coord.split('POINT')[-1]\n",
    "    \n",
    "    lon = coord.split('(')[-1].split(' ')[0].strip()\n",
    "    \n",
    "    lat = coord.split(')')[0].split(' ')[-1].strip()\n",
    "    \n",
    "    return f'{lon},{lat}'"
   ]
  },
  {
   "cell_type": "code",
   "execution_count": 146,
   "id": "66911bf4",
   "metadata": {},
   "outputs": [],
   "source": [
    "# apply funtion\n",
    "data_df['City_Geo'] = data_df['Geo City'].apply(strip_geo)"
   ]
  },
  {
   "cell_type": "code",
   "execution_count": null,
   "id": "d251f682",
   "metadata": {},
   "outputs": [],
   "source": [
    "data_df.head()"
   ]
  },
  {
   "cell_type": "code",
   "execution_count": 148,
   "id": "1c6e25a9",
   "metadata": {},
   "outputs": [],
   "source": [
    "\n",
    "geo_city = data_df['City_Geo'].unique()"
   ]
  },
  {
   "cell_type": "code",
   "execution_count": null,
   "id": "fb46aea2",
   "metadata": {},
   "outputs": [],
   "source": [
    "geo_city[0]"
   ]
  },
  {
   "cell_type": "code",
   "execution_count": 59,
   "id": "ed8401b8",
   "metadata": {},
   "outputs": [],
   "source": [
    "# use api to do reverse lookup\n",
    "\n",
    "import requests\n",
    "def get_city(lon, lat):\n",
    "    url = f\"https://nominatim.openstreetmap.org/reverse?format=json&lat={lat}&lon={lon}\"\n",
    "    response = requests.get(url, headers={'User-Agent': 'your-app-name'})\n",
    "    data = response.json()\n",
    "    \n",
    "    # Try different possible keys for city name\n",
    "    address = data['address']\n",
    "    city_keys = ['city', 'town', 'village', 'municipality', 'suburb']\n",
    "    \n",
    "    for key in city_keys:\n",
    "        if key in address:\n",
    "            return address[key]\n",
    "    \n",
    "    # If no city-like key is found, return the most specific place name available\n",
    "    return address.get('display_name', 'Location not found')"
   ]
  },
  {
   "cell_type": "code",
   "execution_count": 150,
   "id": "6472dbbd",
   "metadata": {},
   "outputs": [],
   "source": [
    "# get city names from geolocation and add to df\n",
    "\n",
    "city_dict = {}\n",
    "\n",
    "for city in geo_city:\n",
    "    \n",
    "    lon = city.split(',')[0]\n",
    "    \n",
    "    lat = city.split(',')[-1]\n",
    "    \n",
    "    city_name = get_city(lon, lat)\n",
    "    \n",
    "    city_dict[city] = city_name.upper()\n",
    "    \n",
    "data_df['City_Name'] = data_df['City_Geo'].apply(lambda x: city_dict[x])"
   ]
  },
  {
   "cell_type": "code",
   "execution_count": null,
   "id": "fd7e26ac",
   "metadata": {},
   "outputs": [],
   "source": [
    "data_df.head()"
   ]
  },
  {
   "cell_type": "code",
   "execution_count": null,
   "id": "684d9239",
   "metadata": {},
   "outputs": [],
   "source": []
  },
  {
   "cell_type": "code",
   "execution_count": null,
   "id": "f3c7e69c",
   "metadata": {},
   "outputs": [],
   "source": [
    "data"
   ]
  },
  {
   "cell_type": "code",
   "execution_count": 27,
   "id": "8085d831",
   "metadata": {},
   "outputs": [],
   "source": [
    "data_df.dropna(inplace=True)"
   ]
  },
  {
   "cell_type": "code",
   "execution_count": null,
   "id": "0328a47f",
   "metadata": {},
   "outputs": [],
   "source": [
    "unemployment"
   ]
  },
  {
   "cell_type": "code",
   "execution_count": 156,
   "id": "031952c1",
   "metadata": {},
   "outputs": [],
   "source": [
    "unemployment['County_check'] = unemployment['Area'].apply(lambda x: x.split(' ')[-1])"
   ]
  },
  {
   "cell_type": "code",
   "execution_count": null,
   "id": "b6dcf546",
   "metadata": {},
   "outputs": [],
   "source": [
    "unemployment = unemployment.loc[unemployment['County_check'] != 'County']\n",
    "unemployment"
   ]
  },
  {
   "cell_type": "code",
   "execution_count": null,
   "id": "e6122ccb",
   "metadata": {},
   "outputs": [],
   "source": [
    "unemployment['County_check'].unique()"
   ]
  },
  {
   "cell_type": "code",
   "execution_count": 159,
   "id": "97e7b4b7",
   "metadata": {},
   "outputs": [],
   "source": [
    "filtered_df = unemployment.loc[unemployment['County_check'].isin(['town', 'City', 'city'])]"
   ]
  },
  {
   "cell_type": "code",
   "execution_count": null,
   "id": "20bca3cb",
   "metadata": {},
   "outputs": [],
   "source": [
    "filtered_df"
   ]
  },
  {
   "cell_type": "code",
   "execution_count": null,
   "id": "b039857b",
   "metadata": {},
   "outputs": [],
   "source": [
    "filtered_df['City'] = filtered_df['Area'].apply(lambda x: x.split('city')[0].upper().strip())"
   ]
  },
  {
   "cell_type": "code",
   "execution_count": null,
   "id": "5cdfd7a0",
   "metadata": {},
   "outputs": [],
   "source": [
    "filtered_df"
   ]
  },
  {
   "cell_type": "code",
   "execution_count": 163,
   "id": "edd1a1ca",
   "metadata": {},
   "outputs": [],
   "source": [
    "month_to_year = {\n",
    "    'Jan': 1, 'Feb': 2, 'Mar': 3, 'Apr': 4, 'May': 5, 'Jun': 6,\n",
    "    'Jul': 7, 'Aug': 8, 'Sep': 9, 'Oct': 10, 'Nov': 11, 'Dec': 12\n",
    "}\n"
   ]
  },
  {
   "cell_type": "code",
   "execution_count": null,
   "id": "1c2e278d",
   "metadata": {},
   "outputs": [],
   "source": [
    "filtered_df = filtered_df.loc[filtered_df['Period'] != 'Annual']\n",
    "filtered_df['Month'] = filtered_df['Period'].apply(lambda x: month_to_year[x])"
   ]
  },
  {
   "cell_type": "code",
   "execution_count": null,
   "id": "9f5376b2",
   "metadata": {},
   "outputs": [],
   "source": [
    "filtered_df['Month'] = filtered_df['Period'].apply(lambda x: month_to_year[x])"
   ]
  },
  {
   "cell_type": "code",
   "execution_count": null,
   "id": "8af3c125",
   "metadata": {},
   "outputs": [],
   "source": [
    "filtered_df['Month'] = filtered_df['Month'] + 1"
   ]
  },
  {
   "cell_type": "code",
   "execution_count": 167,
   "id": "42f64fad",
   "metadata": {},
   "outputs": [],
   "source": [
    "filtered_df = filtered_df[['City', 'Year', 'Month', 'Unemployment Rate', 'Labor Force', 'Employment']]"
   ]
  },
  {
   "cell_type": "code",
   "execution_count": null,
   "id": "67338907",
   "metadata": {},
   "outputs": [],
   "source": [
    "filtered_df"
   ]
  },
  {
   "cell_type": "code",
   "execution_count": null,
   "id": "c813ab39",
   "metadata": {},
   "outputs": [],
   "source": [
    "filtered_df['City'].unique()"
   ]
  },
  {
   "cell_type": "code",
   "execution_count": null,
   "id": "0d288336",
   "metadata": {},
   "outputs": [],
   "source": []
  },
  {
   "cell_type": "code",
   "execution_count": 170,
   "id": "9855f0e0",
   "metadata": {},
   "outputs": [],
   "source": [
    "# Rename column 'target' to 'new_target'\n",
    "filtered_df.rename(columns={'City': 'City_Name'}, inplace=True)"
   ]
  },
  {
   "cell_type": "code",
   "execution_count": 174,
   "id": "9db4b043",
   "metadata": {},
   "outputs": [],
   "source": [
    "data_df['Month'] = data_df['Month'].astype(int)"
   ]
  },
  {
   "cell_type": "code",
   "execution_count": null,
   "id": "b74d74d0",
   "metadata": {},
   "outputs": [],
   "source": [
    "# merge uneployment on city with main df\n",
    "\n",
    "city_df = pd.merge(data_df, filtered_df, on=['Year', 'Month', 'City_Name'])\n",
    "len(city_df)"
   ]
  },
  {
   "cell_type": "code",
   "execution_count": null,
   "id": "fd36d7ff",
   "metadata": {},
   "outputs": [],
   "source": [
    "city_df['City_Name'].unique()"
   ]
  },
  {
   "cell_type": "code",
   "execution_count": 177,
   "id": "580cf2b5",
   "metadata": {},
   "outputs": [],
   "source": [
    "# export to csv to use for lags\n",
    "\n",
    "city_df.to_csv('city_df_2.csv')"
   ]
  },
  {
   "cell_type": "code",
   "execution_count": null,
   "id": "2301c718",
   "metadata": {},
   "outputs": [],
   "source": [
    "un_year_df = pd.read_csv('DA20251525.txt')\n",
    "un_year_df"
   ]
  },
  {
   "cell_type": "code",
   "execution_count": null,
   "id": "9588ddc1",
   "metadata": {},
   "outputs": [],
   "source": [
    "un_year_df.dtypes"
   ]
  },
  {
   "cell_type": "code",
   "execution_count": null,
   "id": "6951d22d",
   "metadata": {},
   "outputs": [],
   "source": [
    "un_year_df = un_year_df.loc[un_year_df['Period'] != 'Annual']\n",
    "un_year_df['Month'] = un_year_df['Period'].apply(lambda x: month_to_year[x])\n",
    "un_year_df['County'] = un_year_df['Area'].apply(lambda x: x.split('County')[0].strip())\n",
    "\n",
    "un_year_df = un_year_df[['Year', 'Month', 'Unemployment Rate', 'Labor Force', 'Employment', 'County']]"
   ]
  },
  {
   "cell_type": "code",
   "execution_count": null,
   "id": "b78fdcff",
   "metadata": {},
   "outputs": [],
   "source": [
    "un_year_df"
   ]
  },
  {
   "cell_type": "code",
   "execution_count": null,
   "id": "b122e513",
   "metadata": {},
   "outputs": [],
   "source": [
    "un_year_df['County'].unique()"
   ]
  },
  {
   "cell_type": "code",
   "execution_count": null,
   "id": "b255318a",
   "metadata": {},
   "outputs": [],
   "source": [
    "data_df['County'].unique()"
   ]
  },
  {
   "cell_type": "code",
   "execution_count": null,
   "id": "6b06093c",
   "metadata": {},
   "outputs": [],
   "source": [
    "county_df = pd.merge(data_df, un_year_df, on=['Year', 'Month', 'County'])\n",
    "len(county_df)"
   ]
  },
  {
   "cell_type": "code",
   "execution_count": 152,
   "id": "df728f2b",
   "metadata": {},
   "outputs": [],
   "source": [
    "county_df.to_csv('county_df.csv')"
   ]
  }
 ],
 "metadata": {
  "kernelspec": {
   "display_name": "PythonData",
   "language": "python",
   "name": "pythondata"
  },
  "language_info": {
   "codemirror_mode": {
    "name": "ipython",
    "version": 3
   },
   "file_extension": ".py",
   "mimetype": "text/x-python",
   "name": "python",
   "nbconvert_exporter": "python",
   "pygments_lexer": "ipython3",
   "version": "3.9.7"
  }
 },
 "nbformat": 4,
 "nbformat_minor": 5
}
